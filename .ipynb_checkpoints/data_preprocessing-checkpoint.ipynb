{
 "cells": [
  {
   "cell_type": "code",
   "execution_count": 696,
   "id": "b0f49862-3e12-47bf-9015-c400daef3081",
   "metadata": {},
   "outputs": [],
   "source": [
    "import pandas as pd\n",
    "pd.options.mode.chained_assignment = None\n",
    "import numpy as np\n",
    "import random\n",
    "import os\n",
    "os.makedirs(\"output\", exist_ok=True)\n",
    "import seaborn as sns\n",
    "import matplotlib.pyplot as plt\n",
    "import matplotlib.patches as mpatches"
   ]
  },
  {
   "cell_type": "markdown",
   "id": "16b92e72-c21d-49c6-9e60-6110ef1aec20",
   "metadata": {},
   "source": [
    "# Reading and Accessing Data"
   ]
  },
  {
   "cell_type": "code",
   "execution_count": 697,
   "id": "456252fb-06a7-43ec-80e8-dbbecf4ee343",
   "metadata": {},
   "outputs": [
    {
     "name": "stdout",
     "output_type": "stream",
     "text": [
      "(264802, 23)\n"
     ]
    },
    {
     "data": {
      "text/html": [
       "<div>\n",
       "<style scoped>\n",
       "    .dataframe tbody tr th:only-of-type {\n",
       "        vertical-align: middle;\n",
       "    }\n",
       "\n",
       "    .dataframe tbody tr th {\n",
       "        vertical-align: top;\n",
       "    }\n",
       "\n",
       "    .dataframe thead th {\n",
       "        text-align: right;\n",
       "    }\n",
       "</style>\n",
       "<table border=\"1\" class=\"dataframe\">\n",
       "  <thead>\n",
       "    <tr style=\"text-align: right;\">\n",
       "      <th></th>\n",
       "      <th>Unnamed: 0</th>\n",
       "      <th>CholCheck</th>\n",
       "      <th>BMI</th>\n",
       "      <th>Smoker</th>\n",
       "      <th>Stroke</th>\n",
       "      <th>HeartDiseaseorAttack</th>\n",
       "      <th>PhysActivity</th>\n",
       "      <th>Fruits</th>\n",
       "      <th>Veggies</th>\n",
       "      <th>AnyHealthcare</th>\n",
       "      <th>...</th>\n",
       "      <th>Physical (days)</th>\n",
       "      <th>DiffWalk</th>\n",
       "      <th>Sex</th>\n",
       "      <th>Age</th>\n",
       "      <th>Education</th>\n",
       "      <th>Income</th>\n",
       "      <th>Diabetes</th>\n",
       "      <th>BloodPressure</th>\n",
       "      <th>Cholesterol</th>\n",
       "      <th>Alcoholic</th>\n",
       "    </tr>\n",
       "  </thead>\n",
       "  <tbody>\n",
       "    <tr>\n",
       "      <th>0</th>\n",
       "      <td>0</td>\n",
       "      <td>NaN</td>\n",
       "      <td>40.0</td>\n",
       "      <td>NaN</td>\n",
       "      <td>NaN</td>\n",
       "      <td>0.0</td>\n",
       "      <td>NaN</td>\n",
       "      <td>NaN</td>\n",
       "      <td>NaN</td>\n",
       "      <td>1.0</td>\n",
       "      <td>...</td>\n",
       "      <td>15.0</td>\n",
       "      <td>NaN</td>\n",
       "      <td>NaN</td>\n",
       "      <td>63.0</td>\n",
       "      <td>High school graduate</td>\n",
       "      <td>$73,106</td>\n",
       "      <td>No</td>\n",
       "      <td>Yes</td>\n",
       "      <td>Yes</td>\n",
       "      <td>No</td>\n",
       "    </tr>\n",
       "    <tr>\n",
       "      <th>1</th>\n",
       "      <td>1</td>\n",
       "      <td>NaN</td>\n",
       "      <td>25.0</td>\n",
       "      <td>NaN</td>\n",
       "      <td>0.0</td>\n",
       "      <td>0.0</td>\n",
       "      <td>NaN</td>\n",
       "      <td>0.0</td>\n",
       "      <td>NaN</td>\n",
       "      <td>0.0</td>\n",
       "      <td>...</td>\n",
       "      <td>NaN</td>\n",
       "      <td>NaN</td>\n",
       "      <td>Female</td>\n",
       "      <td>54.0</td>\n",
       "      <td>College graduate</td>\n",
       "      <td>$22,322</td>\n",
       "      <td>No</td>\n",
       "      <td>No</td>\n",
       "      <td>No</td>\n",
       "      <td>No</td>\n",
       "    </tr>\n",
       "    <tr>\n",
       "      <th>2</th>\n",
       "      <td>2</td>\n",
       "      <td>NaN</td>\n",
       "      <td>NaN</td>\n",
       "      <td>NaN</td>\n",
       "      <td>0.0</td>\n",
       "      <td>0.0</td>\n",
       "      <td>NaN</td>\n",
       "      <td>NaN</td>\n",
       "      <td>NaN</td>\n",
       "      <td>NaN</td>\n",
       "      <td>...</td>\n",
       "      <td>NaN</td>\n",
       "      <td>1.0</td>\n",
       "      <td>NaN</td>\n",
       "      <td>NaN</td>\n",
       "      <td>High school graduate</td>\n",
       "      <td>$29,097</td>\n",
       "      <td>No</td>\n",
       "      <td>Yes</td>\n",
       "      <td>Yes</td>\n",
       "      <td>NaN</td>\n",
       "    </tr>\n",
       "    <tr>\n",
       "      <th>3</th>\n",
       "      <td>3</td>\n",
       "      <td>1.0</td>\n",
       "      <td>27.0</td>\n",
       "      <td>NaN</td>\n",
       "      <td>0.0</td>\n",
       "      <td>NaN</td>\n",
       "      <td>NaN</td>\n",
       "      <td>NaN</td>\n",
       "      <td>NaN</td>\n",
       "      <td>NaN</td>\n",
       "      <td>...</td>\n",
       "      <td>NaN</td>\n",
       "      <td>0.0</td>\n",
       "      <td>NaN</td>\n",
       "      <td>74.0</td>\n",
       "      <td>Some high school</td>\n",
       "      <td>$55,498</td>\n",
       "      <td>No</td>\n",
       "      <td>Yes</td>\n",
       "      <td>No</td>\n",
       "      <td>No</td>\n",
       "    </tr>\n",
       "    <tr>\n",
       "      <th>4</th>\n",
       "      <td>4</td>\n",
       "      <td>NaN</td>\n",
       "      <td>24.0</td>\n",
       "      <td>NaN</td>\n",
       "      <td>NaN</td>\n",
       "      <td>0.0</td>\n",
       "      <td>NaN</td>\n",
       "      <td>NaN</td>\n",
       "      <td>NaN</td>\n",
       "      <td>NaN</td>\n",
       "      <td>...</td>\n",
       "      <td>0.0</td>\n",
       "      <td>0.0</td>\n",
       "      <td>Female</td>\n",
       "      <td>NaN</td>\n",
       "      <td>Some college</td>\n",
       "      <td>$15,629</td>\n",
       "      <td>No</td>\n",
       "      <td>Yes</td>\n",
       "      <td>NaN</td>\n",
       "      <td>No</td>\n",
       "    </tr>\n",
       "  </tbody>\n",
       "</table>\n",
       "<p>5 rows × 23 columns</p>\n",
       "</div>"
      ],
      "text/plain": [
       "   Unnamed: 0  CholCheck   BMI  Smoker  Stroke  HeartDiseaseorAttack  \\\n",
       "0           0        NaN  40.0     NaN     NaN                   0.0   \n",
       "1           1        NaN  25.0     NaN     0.0                   0.0   \n",
       "2           2        NaN   NaN     NaN     0.0                   0.0   \n",
       "3           3        1.0  27.0     NaN     0.0                   NaN   \n",
       "4           4        NaN  24.0     NaN     NaN                   0.0   \n",
       "\n",
       "   PhysActivity  Fruits  Veggies  AnyHealthcare  ...  Physical (days)  \\\n",
       "0           NaN     NaN      NaN            1.0  ...             15.0   \n",
       "1           NaN     0.0      NaN            0.0  ...              NaN   \n",
       "2           NaN     NaN      NaN            NaN  ...              NaN   \n",
       "3           NaN     NaN      NaN            NaN  ...              NaN   \n",
       "4           NaN     NaN      NaN            NaN  ...              0.0   \n",
       "\n",
       "  DiffWalk     Sex   Age             Education   Income  Diabetes  \\\n",
       "0      NaN     NaN  63.0  High school graduate  $73,106        No   \n",
       "1      NaN  Female  54.0      College graduate  $22,322        No   \n",
       "2      1.0     NaN   NaN  High school graduate  $29,097        No   \n",
       "3      0.0     NaN  74.0      Some high school  $55,498        No   \n",
       "4      0.0  Female   NaN          Some college  $15,629        No   \n",
       "\n",
       "  BloodPressure Cholesterol Alcoholic  \n",
       "0           Yes         Yes        No  \n",
       "1            No          No        No  \n",
       "2           Yes         Yes       NaN  \n",
       "3           Yes          No        No  \n",
       "4           Yes         NaN        No  \n",
       "\n",
       "[5 rows x 23 columns]"
      ]
     },
     "execution_count": 697,
     "metadata": {},
     "output_type": "execute_result"
    }
   ],
   "source": [
    "df = pd.read_csv('diabetes_diagnosis.csv')\n",
    "print(df.shape)\n",
    "df.head()"
   ]
  },
  {
   "cell_type": "markdown",
   "id": "db22d64a-030d-4975-80b1-e8564e63032b",
   "metadata": {},
   "source": [
    "# Check and handle duplicated value"
   ]
  },
  {
   "cell_type": "code",
   "execution_count": 698,
   "id": "eea870b4-0cb6-449c-a198-2d18568379c6",
   "metadata": {},
   "outputs": [],
   "source": [
    "df = df.drop_duplicates()"
   ]
  },
  {
   "cell_type": "code",
   "execution_count": 699,
   "id": "8ef07919-6d9f-433e-a9c1-a484d41a7324",
   "metadata": {},
   "outputs": [
    {
     "data": {
      "text/plain": [
       "False"
      ]
     },
     "execution_count": 699,
     "metadata": {},
     "output_type": "execute_result"
    }
   ],
   "source": [
    "df.duplicated().any()"
   ]
  },
  {
   "cell_type": "markdown",
   "id": "02f6c18e-6af4-470d-badf-e348864ad328",
   "metadata": {},
   "source": [
    "# Remove low quality features"
   ]
  },
  {
   "cell_type": "code",
   "execution_count": 700,
   "id": "d019c91d-a0c5-46ca-9e77-97e5d9a023ef",
   "metadata": {},
   "outputs": [],
   "source": [
    "df.drop(columns=['Unnamed: 0'], inplace=True, errors='ignore')"
   ]
  },
  {
   "cell_type": "code",
   "execution_count": 701,
   "id": "941805ee-7413-4ae7-9686-a18e007fdca2",
   "metadata": {},
   "outputs": [
    {
     "name": "stdout",
     "output_type": "stream",
     "text": [
      "Missing Values Summary:\n",
      "\n",
      "                      Missing Values  Percentage (%)\n",
      "CholCheck                     150937         56.9999\n",
      "BMI                            87384         32.9998\n",
      "Smoker                        119160         44.9997\n",
      "Stroke                        158881         59.9999\n",
      "HeartDiseaseorAttack           71496         26.9998\n",
      "PhysActivity                  188009         70.9998\n",
      "Fruits                        161529         60.9999\n",
      "Veggies                       169473         63.9999\n",
      "AnyHealthcare                 182713         68.9999\n",
      "NoDocbcCost                   198601         74.9998\n",
      "GeneralHealth                  68848         25.9998\n",
      "Mental (days)                 129752         48.9996\n",
      "Physical (days)               142993         54.0000\n",
      "DiffWalk                      142993         54.0000\n",
      "Sex                            68848         25.9998\n",
      "Age                            63552         23.9998\n",
      "Education                      76792         28.9998\n",
      "Income                         18536          6.9999\n",
      "Diabetes                       21184          7.9999\n",
      "BloodPressure                  45016         16.9999\n",
      "Cholesterol                    39720         14.9999\n",
      "Alcoholic                      55608         20.9998\n"
     ]
    }
   ],
   "source": [
    "missing_values = df.isnull().sum()\n",
    "missing_percentage = (missing_values / len(df)) * 100\n",
    "\n",
    "missing_summary = pd.DataFrame({\n",
    "    'Missing Values': missing_values,\n",
    "    'Percentage (%)': missing_percentage.round(4)\n",
    "})\n",
    "\n",
    "print(\"Missing Values Summary:\\n\")\n",
    "print(missing_summary)"
   ]
  },
  {
   "cell_type": "code",
   "execution_count": 702,
   "id": "3a1e824b-c307-4cf5-9813-c9e033c65f29",
   "metadata": {},
   "outputs": [],
   "source": [
    "df.drop(columns=['CholCheck'], inplace=True, errors='ignore')"
   ]
  },
  {
   "cell_type": "code",
   "execution_count": 703,
   "id": "017cd133-dd41-41c7-bf15-b41a1732ea84",
   "metadata": {},
   "outputs": [],
   "source": [
    "df.drop(columns=['NoDocbcCost'], inplace=True, errors='ignore')"
   ]
  },
  {
   "cell_type": "code",
   "execution_count": 704,
   "id": "8b4b4f47-91e4-456b-8fc2-55b43f0b7cf8",
   "metadata": {},
   "outputs": [],
   "source": [
    "df.drop(columns=['PhysActivity'], inplace=True, errors='ignore')"
   ]
  },
  {
   "cell_type": "code",
   "execution_count": 705,
   "id": "8f7811a2-6007-4e94-a486-af97f3ae5c93",
   "metadata": {},
   "outputs": [
    {
     "data": {
      "text/html": [
       "<div>\n",
       "<style scoped>\n",
       "    .dataframe tbody tr th:only-of-type {\n",
       "        vertical-align: middle;\n",
       "    }\n",
       "\n",
       "    .dataframe tbody tr th {\n",
       "        vertical-align: top;\n",
       "    }\n",
       "\n",
       "    .dataframe thead th {\n",
       "        text-align: right;\n",
       "    }\n",
       "</style>\n",
       "<table border=\"1\" class=\"dataframe\">\n",
       "  <thead>\n",
       "    <tr style=\"text-align: right;\">\n",
       "      <th></th>\n",
       "      <th>BMI</th>\n",
       "      <th>Smoker</th>\n",
       "      <th>Stroke</th>\n",
       "      <th>HeartDiseaseorAttack</th>\n",
       "      <th>Fruits</th>\n",
       "      <th>Veggies</th>\n",
       "      <th>AnyHealthcare</th>\n",
       "      <th>GeneralHealth</th>\n",
       "      <th>Mental (days)</th>\n",
       "      <th>Physical (days)</th>\n",
       "      <th>DiffWalk</th>\n",
       "      <th>Sex</th>\n",
       "      <th>Age</th>\n",
       "      <th>Education</th>\n",
       "      <th>Income</th>\n",
       "      <th>Diabetes</th>\n",
       "      <th>BloodPressure</th>\n",
       "      <th>Cholesterol</th>\n",
       "      <th>Alcoholic</th>\n",
       "    </tr>\n",
       "  </thead>\n",
       "  <tbody>\n",
       "    <tr>\n",
       "      <th>0</th>\n",
       "      <td>40.0</td>\n",
       "      <td>NaN</td>\n",
       "      <td>NaN</td>\n",
       "      <td>0.0</td>\n",
       "      <td>NaN</td>\n",
       "      <td>NaN</td>\n",
       "      <td>1.0</td>\n",
       "      <td>NaN</td>\n",
       "      <td>NaN</td>\n",
       "      <td>15.0</td>\n",
       "      <td>NaN</td>\n",
       "      <td>NaN</td>\n",
       "      <td>63.0</td>\n",
       "      <td>High school graduate</td>\n",
       "      <td>$73,106</td>\n",
       "      <td>No</td>\n",
       "      <td>Yes</td>\n",
       "      <td>Yes</td>\n",
       "      <td>No</td>\n",
       "    </tr>\n",
       "    <tr>\n",
       "      <th>1</th>\n",
       "      <td>25.0</td>\n",
       "      <td>NaN</td>\n",
       "      <td>0.0</td>\n",
       "      <td>0.0</td>\n",
       "      <td>0.0</td>\n",
       "      <td>NaN</td>\n",
       "      <td>0.0</td>\n",
       "      <td>Good</td>\n",
       "      <td>NaN</td>\n",
       "      <td>NaN</td>\n",
       "      <td>NaN</td>\n",
       "      <td>Female</td>\n",
       "      <td>54.0</td>\n",
       "      <td>College graduate</td>\n",
       "      <td>$22,322</td>\n",
       "      <td>No</td>\n",
       "      <td>No</td>\n",
       "      <td>No</td>\n",
       "      <td>No</td>\n",
       "    </tr>\n",
       "    <tr>\n",
       "      <th>2</th>\n",
       "      <td>NaN</td>\n",
       "      <td>NaN</td>\n",
       "      <td>0.0</td>\n",
       "      <td>0.0</td>\n",
       "      <td>NaN</td>\n",
       "      <td>NaN</td>\n",
       "      <td>NaN</td>\n",
       "      <td>Poor</td>\n",
       "      <td>30.0</td>\n",
       "      <td>NaN</td>\n",
       "      <td>1.0</td>\n",
       "      <td>NaN</td>\n",
       "      <td>NaN</td>\n",
       "      <td>High school graduate</td>\n",
       "      <td>$29,097</td>\n",
       "      <td>No</td>\n",
       "      <td>Yes</td>\n",
       "      <td>Yes</td>\n",
       "      <td>NaN</td>\n",
       "    </tr>\n",
       "    <tr>\n",
       "      <th>3</th>\n",
       "      <td>27.0</td>\n",
       "      <td>NaN</td>\n",
       "      <td>0.0</td>\n",
       "      <td>NaN</td>\n",
       "      <td>NaN</td>\n",
       "      <td>NaN</td>\n",
       "      <td>NaN</td>\n",
       "      <td>NaN</td>\n",
       "      <td>NaN</td>\n",
       "      <td>NaN</td>\n",
       "      <td>0.0</td>\n",
       "      <td>NaN</td>\n",
       "      <td>74.0</td>\n",
       "      <td>Some high school</td>\n",
       "      <td>$55,498</td>\n",
       "      <td>No</td>\n",
       "      <td>Yes</td>\n",
       "      <td>No</td>\n",
       "      <td>No</td>\n",
       "    </tr>\n",
       "    <tr>\n",
       "      <th>4</th>\n",
       "      <td>24.0</td>\n",
       "      <td>NaN</td>\n",
       "      <td>NaN</td>\n",
       "      <td>0.0</td>\n",
       "      <td>NaN</td>\n",
       "      <td>NaN</td>\n",
       "      <td>NaN</td>\n",
       "      <td>Very Good</td>\n",
       "      <td>NaN</td>\n",
       "      <td>0.0</td>\n",
       "      <td>0.0</td>\n",
       "      <td>Female</td>\n",
       "      <td>NaN</td>\n",
       "      <td>Some college</td>\n",
       "      <td>$15,629</td>\n",
       "      <td>No</td>\n",
       "      <td>Yes</td>\n",
       "      <td>NaN</td>\n",
       "      <td>No</td>\n",
       "    </tr>\n",
       "  </tbody>\n",
       "</table>\n",
       "</div>"
      ],
      "text/plain": [
       "    BMI  Smoker  Stroke  HeartDiseaseorAttack  Fruits  Veggies  AnyHealthcare  \\\n",
       "0  40.0     NaN     NaN                   0.0     NaN      NaN            1.0   \n",
       "1  25.0     NaN     0.0                   0.0     0.0      NaN            0.0   \n",
       "2   NaN     NaN     0.0                   0.0     NaN      NaN            NaN   \n",
       "3  27.0     NaN     0.0                   NaN     NaN      NaN            NaN   \n",
       "4  24.0     NaN     NaN                   0.0     NaN      NaN            NaN   \n",
       "\n",
       "  GeneralHealth  Mental (days)  Physical (days)  DiffWalk     Sex   Age  \\\n",
       "0           NaN            NaN             15.0       NaN     NaN  63.0   \n",
       "1          Good            NaN              NaN       NaN  Female  54.0   \n",
       "2          Poor           30.0              NaN       1.0     NaN   NaN   \n",
       "3           NaN            NaN              NaN       0.0     NaN  74.0   \n",
       "4     Very Good            NaN              0.0       0.0  Female   NaN   \n",
       "\n",
       "              Education   Income Diabetes BloodPressure Cholesterol Alcoholic  \n",
       "0  High school graduate  $73,106       No           Yes         Yes        No  \n",
       "1      College graduate  $22,322       No            No          No        No  \n",
       "2  High school graduate  $29,097       No           Yes         Yes       NaN  \n",
       "3      Some high school  $55,498       No           Yes          No        No  \n",
       "4          Some college  $15,629       No           Yes         NaN        No  "
      ]
     },
     "execution_count": 705,
     "metadata": {},
     "output_type": "execute_result"
    }
   ],
   "source": [
    "df.head()"
   ]
  },
  {
   "cell_type": "markdown",
   "id": "0cb3d3b2-98b5-4a5c-ac8e-326862b5b125",
   "metadata": {},
   "source": [
    "# Remove samples with missing target values"
   ]
  },
  {
   "cell_type": "code",
   "execution_count": 706,
   "id": "54bdbe69-ea90-4a10-9fe5-d91cd84d71bd",
   "metadata": {},
   "outputs": [
    {
     "data": {
      "text/plain": [
       "Diabetes\n",
       "No             205133\n",
       "Diabetes        34026\n",
       "Prediabetes      4459\n",
       "Name: count, dtype: int64"
      ]
     },
     "execution_count": 706,
     "metadata": {},
     "output_type": "execute_result"
    }
   ],
   "source": [
    "df['Diabetes'].value_counts()"
   ]
  },
  {
   "cell_type": "code",
   "execution_count": 707,
   "id": "e5c06bf4-cb1c-4ebf-84e4-b1c4c34290c8",
   "metadata": {},
   "outputs": [
    {
     "name": "stdout",
     "output_type": "stream",
     "text": [
      "0\n"
     ]
    }
   ],
   "source": [
    "df = df.dropna(subset=['Diabetes'])\n",
    "print(df['Diabetes'].isnull().sum())  "
   ]
  },
  {
   "cell_type": "code",
   "execution_count": 708,
   "id": "e8e9102d-c9b1-433c-bdd6-f7b59fe89ec5",
   "metadata": {},
   "outputs": [
    {
     "name": "stdout",
     "output_type": "stream",
     "text": [
      "\n",
      "Value counts for 'BMI':\n",
      "\n",
      "BMI\n",
      "NaN     80337\n",
      "27.0    15009\n",
      "26.0    12622\n",
      "24.0    11975\n",
      "25.0    10485\n",
      "        ...  \n",
      "80.0        1\n",
      "85.0        1\n",
      "86.0        1\n",
      "76.0        1\n",
      "83.0        1\n",
      "Name: count, Length: 83, dtype: int64\n",
      "\n",
      "Value counts for 'Smoker':\n",
      "\n",
      "Smoker\n",
      " NaN     109689\n",
      " 0.0      71057\n",
      " 1.0      56194\n",
      " 11.0      3376\n",
      "-10.0      3302\n",
      "Name: count, dtype: int64\n",
      "\n",
      "Value counts for 'Stroke':\n",
      "\n",
      "Stroke\n",
      "NaN    146093\n",
      "0.0     93770\n",
      "1.0      3755\n",
      "Name: count, dtype: int64\n",
      "\n",
      "Value counts for 'HeartDiseaseorAttack':\n",
      "\n",
      "HeartDiseaseorAttack\n",
      "0.0    161873\n",
      "NaN     65880\n",
      "1.0     15865\n",
      "Name: count, dtype: int64\n",
      "\n",
      "Value counts for 'Fruits':\n",
      "\n",
      "Fruits\n",
      " NaN     148565\n",
      " 1.0      57209\n",
      " 0.0      33094\n",
      " 11.0      2379\n",
      "-10.0      2371\n",
      "Name: count, dtype: int64\n",
      "\n",
      "Value counts for 'Veggies':\n",
      "\n",
      "Veggies\n",
      "NaN    155931\n",
      "1.0     71957\n",
      "0.0     15730\n",
      "Name: count, dtype: int64\n",
      "\n",
      "Value counts for 'AnyHealthcare':\n",
      "\n",
      "AnyHealthcare\n",
      "NaN    168079\n",
      "1.0     72085\n",
      "0.0      3454\n",
      "Name: count, dtype: int64\n",
      "\n",
      "Value counts for 'GeneralHealth':\n",
      "\n",
      "GeneralHealth\n",
      "NaN          63374\n",
      "Very Good    63295\n",
      "Good         53879\n",
      "Excellent    32051\n",
      "Fair         22451\n",
      "Poor          8568\n",
      "Name: count, dtype: int64\n",
      "\n",
      "Value counts for 'Mental (days)':\n",
      "\n",
      "Mental (days)\n",
      " NaN     119408\n",
      " 0.0      81770\n",
      " 2.0       6113\n",
      " 30.0      5656\n",
      " 5.0       4223\n",
      " 1.0       4000\n",
      " 3.0       3384\n",
      " 22.0      3165\n",
      "-20.0      3093\n",
      " 10.0      2938\n",
      " 15.0      2581\n",
      " 4.0       1737\n",
      " 20.0      1513\n",
      " 7.0       1446\n",
      " 14.0       540\n",
      " 25.0       526\n",
      " 6.0        432\n",
      " 8.0        282\n",
      " 12.0       177\n",
      " 28.0       159\n",
      " 21.0       118\n",
      " 29.0        74\n",
      " 16.0        47\n",
      " 18.0        44\n",
      " 9.0         41\n",
      " 27.0        30\n",
      " 17.0        26\n",
      " 26.0        21\n",
      " 11.0        19\n",
      " 23.0        17\n",
      " 24.0        16\n",
      " 13.0        16\n",
      " 19.0         6\n",
      "Name: count, dtype: int64\n",
      "\n",
      "Value counts for 'Physical (days)':\n",
      "\n",
      "Physical (days)\n",
      " NaN     131506\n",
      " 0.0      67309\n",
      " 30.0      8174\n",
      " 2.0       6149\n",
      " 1.0       4721\n",
      " 3.0       3535\n",
      " 5.0       3201\n",
      "-30.0      2893\n",
      " 33.0      2774\n",
      " 10.0      2317\n",
      " 15.0      2062\n",
      " 4.0       1916\n",
      " 7.0       1913\n",
      " 20.0      1324\n",
      " 14.0      1091\n",
      " 25.0       575\n",
      " 6.0        548\n",
      " 8.0        347\n",
      " 21.0       291\n",
      " 28.0       225\n",
      " 12.0       224\n",
      " 29.0        87\n",
      " 18.0        78\n",
      " 9.0         71\n",
      " 16.0        52\n",
      " 27.0        38\n",
      " 13.0        33\n",
      " 17.0        31\n",
      " 23.0        29\n",
      " 26.0        27\n",
      " 24.0        25\n",
      " 22.0        23\n",
      " 11.0        23\n",
      " 19.0         6\n",
      "Name: count, dtype: int64\n",
      "\n",
      "Value counts for 'DiffWalk':\n",
      "\n",
      "DiffWalk\n",
      "NaN    131623\n",
      "0.0     93987\n",
      "1.0     18008\n",
      "Name: count, dtype: int64\n",
      "\n",
      "Value counts for 'Sex':\n",
      "\n",
      "Sex\n",
      "Female    100802\n",
      "Male       79406\n",
      "NaN        63410\n",
      "Name: count, dtype: int64\n",
      "\n",
      "Value counts for 'Age':\n",
      "\n",
      "Age\n",
      " NaN      58352\n",
      " 64.0      4709\n",
      "-163.0     4648\n",
      " 278.0     4635\n",
      " 61.0      4632\n",
      "          ...  \n",
      " 21.0       571\n",
      " 23.0       570\n",
      " 18.0       552\n",
      " 24.0       551\n",
      " 20.0       532\n",
      "Name: count, Length: 76, dtype: int64\n",
      "\n",
      "Value counts for 'Education':\n",
      "\n",
      "Education\n",
      "College graduate         72966\n",
      "NaN                      70635\n",
      "Some college             47718\n",
      "High school graduate     42890\n",
      "Some high school          6467\n",
      "Elementary                2818\n",
      "Never attended school      124\n",
      "Name: count, dtype: int64\n",
      "\n",
      "Value counts for 'Income':\n",
      "\n",
      "Income\n",
      "NaN         16999\n",
      "$15,499        19\n",
      "$11,145        16\n",
      "$15,423        16\n",
      "$20,015        15\n",
      "            ...  \n",
      "$27,295         1\n",
      "$103,151        1\n",
      "$80,179         1\n",
      "$113,303        1\n",
      "$38,649         1\n",
      "Name: count, Length: 87244, dtype: int64\n",
      "\n",
      "Value counts for 'Diabetes':\n",
      "\n",
      "Diabetes\n",
      "No             205133\n",
      "Diabetes        34026\n",
      "Prediabetes      4459\n",
      "Name: count, dtype: int64\n",
      "\n",
      "Value counts for 'BloodPressure':\n",
      "\n",
      "BloodPressure\n",
      "No     115505\n",
      "Yes     86653\n",
      "NaN     41460\n",
      "Name: count, dtype: int64\n",
      "\n",
      "Value counts for 'Cholesterol':\n",
      "\n",
      "Cholesterol\n",
      "No     119297\n",
      "Yes     87776\n",
      "NaN     36545\n",
      "Name: count, dtype: int64\n",
      "\n",
      "Value counts for 'Alcoholic':\n",
      "\n",
      "Alcoholic\n",
      "No     181600\n",
      "NaN     51164\n",
      "Yes     10854\n",
      "Name: count, dtype: int64\n"
     ]
    }
   ],
   "source": [
    "for col in df.columns:\n",
    "    print(f\"\\nValue counts for '{col}':\\n\")\n",
    "    print(df[col].value_counts(dropna=False))  "
   ]
  },
  {
   "cell_type": "markdown",
   "id": "6f4823df-17f9-4e18-aede-cc81fd27e76f",
   "metadata": {},
   "source": [
    "# Definition of Feature Treatment Strategy:"
   ]
  },
  {
   "cell_type": "code",
   "execution_count": 709,
   "id": "fbb9f47d-09f9-42c7-82a3-166ddd8e91ba",
   "metadata": {},
   "outputs": [],
   "source": [
    "col_to_fill_with_IQR_range = ['Income','BMI','Mental (days)','Physical (days)','Age']\n",
    "cols_to_fill_with_proportion = ['Smoker','Stroke','HeartDiseaseorAttack','Fruits','Veggies','AnyHealthcare','GeneralHealth','DiffWalk','Sex','Education','BloodPressure','Cholesterol','Alcoholic']\n",
    "cols_remove_outlier_with_IQR = ['BMI','Mental (days)','Physical (days)','Age','Income']\n",
    "cols_to_fix_binary_encoding = ['Smoker', 'Fruits']"
   ]
  },
  {
   "cell_type": "markdown",
   "id": "3e6b0d57-3e5e-4672-815f-8cb3108fae37",
   "metadata": {},
   "source": [
    "# Correction of Data Format and Binary Classification Encoding Errors"
   ]
  },
  {
   "cell_type": "code",
   "execution_count": 710,
   "id": "46260570-2647-4686-b82d-85c888574330",
   "metadata": {},
   "outputs": [
    {
     "data": {
      "text/plain": [
       "0    73106.0\n",
       "1    22322.0\n",
       "2    29097.0\n",
       "3    55498.0\n",
       "4    15629.0\n",
       "Name: Income, dtype: float64"
      ]
     },
     "execution_count": 710,
     "metadata": {},
     "output_type": "execute_result"
    }
   ],
   "source": [
    "df['Income'] = df['Income'].replace(r'[\\$,]', '', regex=True)\n",
    "df['Income'] = pd.to_numeric(df['Income'], errors='coerce')\n",
    "df['Income'].head()"
   ]
  },
  {
   "cell_type": "code",
   "execution_count": 711,
   "id": "ff600e36-fdac-40b7-9317-5b220b127e6c",
   "metadata": {},
   "outputs": [],
   "source": [
    "for col in cols_to_fix_binary_encoding:\n",
    "    df[col] = df[col].replace({11: 1, -10: 0})\n"
   ]
  },
  {
   "cell_type": "code",
   "execution_count": 712,
   "id": "61aecf9a-af5d-4f86-b046-d3b9cf13a3f8",
   "metadata": {},
   "outputs": [
    {
     "data": {
      "text/plain": [
       "Smoker\n",
       "0.0    74359\n",
       "1.0    59570\n",
       "Name: count, dtype: int64"
      ]
     },
     "execution_count": 712,
     "metadata": {},
     "output_type": "execute_result"
    }
   ],
   "source": [
    "df['Smoker'].value_counts()"
   ]
  },
  {
   "cell_type": "code",
   "execution_count": 713,
   "id": "7e69f526-9d87-41bf-b85c-b3b83adea736",
   "metadata": {},
   "outputs": [
    {
     "data": {
      "text/plain": [
       "Fruits\n",
       "1.0    59588\n",
       "0.0    35465\n",
       "Name: count, dtype: int64"
      ]
     },
     "execution_count": 713,
     "metadata": {},
     "output_type": "execute_result"
    }
   ],
   "source": [
    "df['Fruits'].value_counts()"
   ]
  },
  {
   "cell_type": "markdown",
   "id": "e6d43c47-0dc8-4364-957b-38aa8aee9be6",
   "metadata": {},
   "source": [
    "# Handling Outliers"
   ]
  },
  {
   "cell_type": "code",
   "execution_count": 714,
   "id": "7189ab8c-f6eb-495c-857f-9f7030ec2dcf",
   "metadata": {},
   "outputs": [],
   "source": [
    "df['BMI'] = df['BMI'].mask(df['BMI'] < 0, np.nan)\n",
    "\n",
    "Q1 = df['BMI'].quantile(0.25)\n",
    "Q3 = df['BMI'].quantile(0.75)\n",
    "IQR = Q3 - Q1\n",
    "lower = Q1 - 1.5 * IQR\n",
    "upper = Q3 + 1.5 * IQR\n",
    "\n",
    "df['BMI'] = df['BMI'].mask((df['BMI'] < lower) | (df['BMI'] > upper), np.nan)"
   ]
  },
  {
   "cell_type": "code",
   "execution_count": 715,
   "id": "9506e3c7-0855-4aa0-a20e-634282fae36b",
   "metadata": {},
   "outputs": [],
   "source": [
    "df['Age'] = df['Age'].mask((df['Age'] < 0) | (df['Age'] > 100), np.nan)\n",
    "df['Mental (days)'] = df['Mental (days)'].mask((df['Mental (days)'] < 0) | (df['Mental (days)'] > 30), np.nan)\n",
    "df['Physical (days)'] = df['Physical (days)'].mask((df['Physical (days)'] < 0) | (df['Physical (days)'] > 30), np.nan)"
   ]
  },
  {
   "cell_type": "code",
   "execution_count": 716,
   "id": "f192ca28-87ab-4cbe-a1e2-b87b850d9686",
   "metadata": {},
   "outputs": [],
   "source": [
    "Q1 = df['Income'].quantile(0.25)\n",
    "Q3 = df['Income'].quantile(0.75)\n",
    "IQR = Q3 - Q1\n",
    "lower_bound = Q1 - 1.5 * IQR\n",
    "df['Income'] = df['Income'].mask(df['Income'] < lower_bound, np.nan)"
   ]
  },
  {
   "cell_type": "markdown",
   "id": "b46b65bb-82f8-423f-8d75-3a87f61dcdc7",
   "metadata": {},
   "source": [
    "# Handling Missing Value"
   ]
  },
  {
   "cell_type": "code",
   "execution_count": 717,
   "id": "80ae2531-c401-4fa1-a670-659e2c9aecfe",
   "metadata": {},
   "outputs": [],
   "source": [
    "def random_impute_within_iqr(df, column):\n",
    "    Q1 = df[column].quantile(0.25)\n",
    "    Q3 = df[column].quantile(0.75)\n",
    "    IQR = Q3 - Q1\n",
    "    lower_bound = Q1 - 1.5 * IQR\n",
    "    upper_bound = Q3 + 1.5 * IQR\n",
    "\n",
    "    valid_values = df[column][(df[column] >= lower_bound) & (df[column] <= upper_bound)]\n",
    "    df[column] = df[column].apply(lambda x: np.random.choice(valid_values) if pd.isna(x) else x)\n",
    "    return df\n",
    "\n",
    "for col in col_to_fill_with_IQR_range:\n",
    "    df = random_impute_within_iqr(df, col)"
   ]
  },
  {
   "cell_type": "code",
   "execution_count": 718,
   "id": "997ad8f9-ddfa-45b6-8774-0d0a4ffab656",
   "metadata": {},
   "outputs": [],
   "source": [
    "for col in cols_to_fill_with_proportion:\n",
    "    value_counts = df[col].value_counts(normalize=True, dropna=True)\n",
    "    values = value_counts.index.tolist()\n",
    "    probs = value_counts.values.tolist()\n",
    "    missing_mask = df[col].isnull()\n",
    "    n_missing = missing_mask.sum()\n",
    "    df.loc[missing_mask, col] = np.random.choice(values, size=n_missing, p=probs)"
   ]
  },
  {
   "cell_type": "code",
   "execution_count": 719,
   "id": "7bbf2474-9f8d-41c7-af01-2ada8de7a717",
   "metadata": {},
   "outputs": [
    {
     "data": {
      "text/plain": [
       "BMI                     0\n",
       "Smoker                  0\n",
       "Stroke                  0\n",
       "HeartDiseaseorAttack    0\n",
       "Fruits                  0\n",
       "Veggies                 0\n",
       "AnyHealthcare           0\n",
       "GeneralHealth           0\n",
       "Mental (days)           0\n",
       "Physical (days)         0\n",
       "DiffWalk                0\n",
       "Sex                     0\n",
       "Age                     0\n",
       "Education               0\n",
       "Income                  0\n",
       "Diabetes                0\n",
       "BloodPressure           0\n",
       "Cholesterol             0\n",
       "Alcoholic               0\n",
       "dtype: int64"
      ]
     },
     "execution_count": 719,
     "metadata": {},
     "output_type": "execute_result"
    }
   ],
   "source": [
    "df.isnull().sum()"
   ]
  },
  {
   "cell_type": "markdown",
   "id": "1ef65744-0a2c-40ee-87e7-19514ea608a4",
   "metadata": {},
   "source": [
    "# Encoding Ordinal Data"
   ]
  },
  {
   "cell_type": "code",
   "execution_count": 720,
   "id": "8425c727-e173-4dd5-bd87-5de7c9073321",
   "metadata": {},
   "outputs": [],
   "source": [
    "GeneralHealth_order = {\n",
    "    'Poor': 0,\n",
    "    'Fair': 1,\n",
    "    'Good': 2,\n",
    "    'Very Good': 3,\n",
    "    'Excellent': 4\n",
    "}\n",
    "df['GeneralHealth'] = df['GeneralHealth'].map(GeneralHealth_order)"
   ]
  },
  {
   "cell_type": "code",
   "execution_count": 721,
   "id": "3d7fc4e0-a0ee-4d2a-a41b-cbb6bd8ff897",
   "metadata": {},
   "outputs": [
    {
     "data": {
      "text/plain": [
       "GeneralHealth\n",
       "3    85330\n",
       "2    72931\n",
       "4    43362\n",
       "1    30415\n",
       "0    11580\n",
       "Name: count, dtype: int64"
      ]
     },
     "execution_count": 721,
     "metadata": {},
     "output_type": "execute_result"
    }
   ],
   "source": [
    "df['GeneralHealth'].value_counts()"
   ]
  },
  {
   "cell_type": "code",
   "execution_count": 722,
   "id": "873a066d-45ef-486b-b64d-ecb00b5f74c2",
   "metadata": {},
   "outputs": [],
   "source": [
    "Sex_map = {\n",
    "    'Male': 0,\n",
    "    'Female': 1\n",
    "}\n",
    "df['Sex'] = df['Sex'].map(Sex_map)"
   ]
  },
  {
   "cell_type": "code",
   "execution_count": 723,
   "id": "e4b19bd8-1854-4c39-809a-b32bf21a6861",
   "metadata": {},
   "outputs": [
    {
     "data": {
      "text/plain": [
       "Sex\n",
       "1    136131\n",
       "0    107487\n",
       "Name: count, dtype: int64"
      ]
     },
     "execution_count": 723,
     "metadata": {},
     "output_type": "execute_result"
    }
   ],
   "source": [
    "df['Sex'].value_counts()"
   ]
  },
  {
   "cell_type": "code",
   "execution_count": 724,
   "id": "5c437a5b-5941-4042-86c0-29dd15638418",
   "metadata": {},
   "outputs": [],
   "source": [
    "Education_order = {\n",
    "    'Never attended school': 0,\n",
    "    'Elementary': 1,\n",
    "    'Some high school': 2,\n",
    "    'High school graduate': 3,\n",
    "    'Some college': 4,\n",
    "    'College graduate': 5\n",
    "}\n",
    "df['Education'] = df['Education'].map(Education_order)"
   ]
  },
  {
   "cell_type": "code",
   "execution_count": 725,
   "id": "0dfde95b-58d6-498a-978c-b5ae77f733f0",
   "metadata": {},
   "outputs": [
    {
     "data": {
      "text/plain": [
       "Education\n",
       "5    102797\n",
       "4     67308\n",
       "3     60344\n",
       "2      9038\n",
       "1      3946\n",
       "0       185\n",
       "Name: count, dtype: int64"
      ]
     },
     "execution_count": 725,
     "metadata": {},
     "output_type": "execute_result"
    }
   ],
   "source": [
    "df['Education'].value_counts()"
   ]
  },
  {
   "cell_type": "code",
   "execution_count": 726,
   "id": "06f56c51-04a3-44a6-aa32-23d8c1c25b5f",
   "metadata": {},
   "outputs": [],
   "source": [
    "Diabetes_order= {\n",
    "    'No': 0,\n",
    "    'Prediabetes': 1,\n",
    "    'Diabetes': 2\n",
    "}\n",
    "df['Diabetes'] = df['Diabetes'].map(Diabetes_order)"
   ]
  },
  {
   "cell_type": "code",
   "execution_count": 727,
   "id": "08b69d75-bf40-4d94-9fbb-04bfbe2c5b5e",
   "metadata": {},
   "outputs": [
    {
     "data": {
      "text/plain": [
       "Diabetes\n",
       "0    205133\n",
       "2     34026\n",
       "1      4459\n",
       "Name: count, dtype: int64"
      ]
     },
     "execution_count": 727,
     "metadata": {},
     "output_type": "execute_result"
    }
   ],
   "source": [
    "df['Diabetes'].value_counts()"
   ]
  },
  {
   "cell_type": "code",
   "execution_count": 728,
   "id": "de124038-f1c9-4d46-98f9-3a4f31d88fe1",
   "metadata": {},
   "outputs": [],
   "source": [
    "yes_no_mapping = {'Yes': 1, 'No': 0}\n",
    "\n",
    "df['BloodPressure'] = df['BloodPressure'].map(yes_no_mapping)\n",
    "df['Cholesterol'] = df['Cholesterol'].map(yes_no_mapping)\n",
    "df['Alcoholic'] = df['Alcoholic'].map(yes_no_mapping)"
   ]
  },
  {
   "cell_type": "code",
   "execution_count": 729,
   "id": "47493f8e-1944-4375-b527-ec540fba279d",
   "metadata": {},
   "outputs": [
    {
     "data": {
      "text/plain": [
       "Alcoholic\n",
       "0    229890\n",
       "1     13728\n",
       "Name: count, dtype: int64"
      ]
     },
     "execution_count": 729,
     "metadata": {},
     "output_type": "execute_result"
    }
   ],
   "source": [
    "df['Alcoholic'].value_counts()"
   ]
  },
  {
   "cell_type": "code",
   "execution_count": 730,
   "id": "c4c0422b-7ca6-4b10-9a81-3def74f466d0",
   "metadata": {},
   "outputs": [
    {
     "data": {
      "text/html": [
       "<div>\n",
       "<style scoped>\n",
       "    .dataframe tbody tr th:only-of-type {\n",
       "        vertical-align: middle;\n",
       "    }\n",
       "\n",
       "    .dataframe tbody tr th {\n",
       "        vertical-align: top;\n",
       "    }\n",
       "\n",
       "    .dataframe thead th {\n",
       "        text-align: right;\n",
       "    }\n",
       "</style>\n",
       "<table border=\"1\" class=\"dataframe\">\n",
       "  <thead>\n",
       "    <tr style=\"text-align: right;\">\n",
       "      <th></th>\n",
       "      <th>BMI</th>\n",
       "      <th>Smoker</th>\n",
       "      <th>Stroke</th>\n",
       "      <th>HeartDiseaseorAttack</th>\n",
       "      <th>Fruits</th>\n",
       "      <th>Veggies</th>\n",
       "      <th>AnyHealthcare</th>\n",
       "      <th>GeneralHealth</th>\n",
       "      <th>Mental (days)</th>\n",
       "      <th>Physical (days)</th>\n",
       "      <th>DiffWalk</th>\n",
       "      <th>Sex</th>\n",
       "      <th>Age</th>\n",
       "      <th>Education</th>\n",
       "      <th>Income</th>\n",
       "      <th>Diabetes</th>\n",
       "      <th>BloodPressure</th>\n",
       "      <th>Cholesterol</th>\n",
       "      <th>Alcoholic</th>\n",
       "    </tr>\n",
       "  </thead>\n",
       "  <tbody>\n",
       "    <tr>\n",
       "      <th>0</th>\n",
       "      <td>40.0</td>\n",
       "      <td>1.0</td>\n",
       "      <td>0.0</td>\n",
       "      <td>0.0</td>\n",
       "      <td>1.0</td>\n",
       "      <td>0.0</td>\n",
       "      <td>1.0</td>\n",
       "      <td>2</td>\n",
       "      <td>0.0</td>\n",
       "      <td>15.0</td>\n",
       "      <td>0.0</td>\n",
       "      <td>0</td>\n",
       "      <td>63.0</td>\n",
       "      <td>3</td>\n",
       "      <td>73106.0</td>\n",
       "      <td>0</td>\n",
       "      <td>1</td>\n",
       "      <td>1</td>\n",
       "      <td>0</td>\n",
       "    </tr>\n",
       "    <tr>\n",
       "      <th>1</th>\n",
       "      <td>25.0</td>\n",
       "      <td>0.0</td>\n",
       "      <td>0.0</td>\n",
       "      <td>0.0</td>\n",
       "      <td>0.0</td>\n",
       "      <td>1.0</td>\n",
       "      <td>0.0</td>\n",
       "      <td>2</td>\n",
       "      <td>1.0</td>\n",
       "      <td>0.0</td>\n",
       "      <td>0.0</td>\n",
       "      <td>1</td>\n",
       "      <td>54.0</td>\n",
       "      <td>5</td>\n",
       "      <td>22322.0</td>\n",
       "      <td>0</td>\n",
       "      <td>0</td>\n",
       "      <td>0</td>\n",
       "      <td>0</td>\n",
       "    </tr>\n",
       "    <tr>\n",
       "      <th>2</th>\n",
       "      <td>30.0</td>\n",
       "      <td>0.0</td>\n",
       "      <td>0.0</td>\n",
       "      <td>0.0</td>\n",
       "      <td>0.0</td>\n",
       "      <td>1.0</td>\n",
       "      <td>1.0</td>\n",
       "      <td>0</td>\n",
       "      <td>30.0</td>\n",
       "      <td>0.0</td>\n",
       "      <td>1.0</td>\n",
       "      <td>0</td>\n",
       "      <td>65.0</td>\n",
       "      <td>3</td>\n",
       "      <td>29097.0</td>\n",
       "      <td>0</td>\n",
       "      <td>1</td>\n",
       "      <td>1</td>\n",
       "      <td>0</td>\n",
       "    </tr>\n",
       "    <tr>\n",
       "      <th>3</th>\n",
       "      <td>27.0</td>\n",
       "      <td>1.0</td>\n",
       "      <td>0.0</td>\n",
       "      <td>0.0</td>\n",
       "      <td>1.0</td>\n",
       "      <td>1.0</td>\n",
       "      <td>1.0</td>\n",
       "      <td>3</td>\n",
       "      <td>0.0</td>\n",
       "      <td>0.0</td>\n",
       "      <td>0.0</td>\n",
       "      <td>0</td>\n",
       "      <td>74.0</td>\n",
       "      <td>2</td>\n",
       "      <td>55498.0</td>\n",
       "      <td>0</td>\n",
       "      <td>1</td>\n",
       "      <td>0</td>\n",
       "      <td>0</td>\n",
       "    </tr>\n",
       "    <tr>\n",
       "      <th>4</th>\n",
       "      <td>24.0</td>\n",
       "      <td>1.0</td>\n",
       "      <td>0.0</td>\n",
       "      <td>0.0</td>\n",
       "      <td>0.0</td>\n",
       "      <td>1.0</td>\n",
       "      <td>1.0</td>\n",
       "      <td>3</td>\n",
       "      <td>0.0</td>\n",
       "      <td>0.0</td>\n",
       "      <td>0.0</td>\n",
       "      <td>1</td>\n",
       "      <td>63.0</td>\n",
       "      <td>4</td>\n",
       "      <td>15629.0</td>\n",
       "      <td>0</td>\n",
       "      <td>1</td>\n",
       "      <td>1</td>\n",
       "      <td>0</td>\n",
       "    </tr>\n",
       "  </tbody>\n",
       "</table>\n",
       "</div>"
      ],
      "text/plain": [
       "    BMI  Smoker  Stroke  HeartDiseaseorAttack  Fruits  Veggies  AnyHealthcare  \\\n",
       "0  40.0     1.0     0.0                   0.0     1.0      0.0            1.0   \n",
       "1  25.0     0.0     0.0                   0.0     0.0      1.0            0.0   \n",
       "2  30.0     0.0     0.0                   0.0     0.0      1.0            1.0   \n",
       "3  27.0     1.0     0.0                   0.0     1.0      1.0            1.0   \n",
       "4  24.0     1.0     0.0                   0.0     0.0      1.0            1.0   \n",
       "\n",
       "   GeneralHealth  Mental (days)  Physical (days)  DiffWalk  Sex   Age  \\\n",
       "0              2            0.0             15.0       0.0    0  63.0   \n",
       "1              2            1.0              0.0       0.0    1  54.0   \n",
       "2              0           30.0              0.0       1.0    0  65.0   \n",
       "3              3            0.0              0.0       0.0    0  74.0   \n",
       "4              3            0.0              0.0       0.0    1  63.0   \n",
       "\n",
       "   Education   Income  Diabetes  BloodPressure  Cholesterol  Alcoholic  \n",
       "0          3  73106.0         0              1            1          0  \n",
       "1          5  22322.0         0              0            0          0  \n",
       "2          3  29097.0         0              1            1          0  \n",
       "3          2  55498.0         0              1            0          0  \n",
       "4          4  15629.0         0              1            1          0  "
      ]
     },
     "execution_count": 730,
     "metadata": {},
     "output_type": "execute_result"
    }
   ],
   "source": [
    "df.head()"
   ]
  },
  {
   "cell_type": "code",
   "execution_count": 731,
   "id": "1460018c-d0c0-43d8-b1d5-ca2878113d22",
   "metadata": {},
   "outputs": [
    {
     "name": "stdout",
     "output_type": "stream",
     "text": [
      "<class 'pandas.core.frame.DataFrame'>\n",
      "Index: 243618 entries, 0 to 264801\n",
      "Data columns (total 19 columns):\n",
      " #   Column                Non-Null Count   Dtype  \n",
      "---  ------                --------------   -----  \n",
      " 0   BMI                   243618 non-null  float64\n",
      " 1   Smoker                243618 non-null  float64\n",
      " 2   Stroke                243618 non-null  float64\n",
      " 3   HeartDiseaseorAttack  243618 non-null  float64\n",
      " 4   Fruits                243618 non-null  float64\n",
      " 5   Veggies               243618 non-null  float64\n",
      " 6   AnyHealthcare         243618 non-null  float64\n",
      " 7   GeneralHealth         243618 non-null  int64  \n",
      " 8   Mental (days)         243618 non-null  float64\n",
      " 9   Physical (days)       243618 non-null  float64\n",
      " 10  DiffWalk              243618 non-null  float64\n",
      " 11  Sex                   243618 non-null  int64  \n",
      " 12  Age                   243618 non-null  float64\n",
      " 13  Education             243618 non-null  int64  \n",
      " 14  Income                243618 non-null  float64\n",
      " 15  Diabetes              243618 non-null  int64  \n",
      " 16  BloodPressure         243618 non-null  int64  \n",
      " 17  Cholesterol           243618 non-null  int64  \n",
      " 18  Alcoholic             243618 non-null  int64  \n",
      "dtypes: float64(12), int64(7)\n",
      "memory usage: 37.2 MB\n"
     ]
    }
   ],
   "source": [
    "df.info()"
   ]
  },
  {
   "cell_type": "code",
   "execution_count": 732,
   "id": "ab342a00-8e11-4cf3-8a28-1d4ed8c0ba5e",
   "metadata": {},
   "outputs": [],
   "source": [
    "df.to_csv(\"CleanDataset.csv\", index=False)"
   ]
  },
  {
   "cell_type": "markdown",
   "id": "872098da-c009-4138-91f2-c5034e1b1aa7",
   "metadata": {},
   "source": [
    "# EDA"
   ]
  },
  {
   "cell_type": "code",
   "execution_count": 733,
   "id": "dbd1dd68-41a2-4c24-9b1d-6b5ba99513b2",
   "metadata": {},
   "outputs": [
    {
     "data": {
      "image/png": "[encoded data removed]",
      "text/plain": [
       "<Figure size 1320x400 with 6 Axes>"
      ]
     },
     "metadata": {},
     "output_type": "display_data"
    }
   ],
   "source": [
    "df_heat = df[[\"Income\", \"BMI\", \"Diabetes\"]].copy()\n",
    "g = sns.FacetGrid(df_heat, col=\"Diabetes\", height=4, aspect=1.1)\n",
    "g.map_dataframe(\n",
    "    sns.histplot,\n",
    "    x=\"Income\",\n",
    "    y=\"BMI\",\n",
    "    bins=40,\n",
    "    pmax=0.8,            \n",
    "    cbar=True,           \n",
    "    cmap=\"YlOrRd\"        \n",
    ")\n",
    "g.fig.subplots_adjust(top=0.8)\n",
    "g.fig.suptitle(\"Figure: Heatmap of Income vs BMI by Diabetes Status\", fontsize=13)\n",
    "g.set_axis_labels(\"Income\", \"BMI\")\n",
    "plt.show()\n"
   ]
  },
  {
   "cell_type": "code",
   "execution_count": 734,
   "id": "685ea021-5c91-4407-928e-e0a9da46485a",
   "metadata": {},
   "outputs": [
    {
     "data": {
      "image/png": "[encoded data removed]",
      "text/plain": [
       "<Figure size 600x400 with 1 Axes>"
      ]
     },
     "metadata": {},
     "output_type": "display_data"
    }
   ],
   "source": [
    "sns.set(style=\"whitegrid\")\n",
    "plt.figure(figsize=(6, 4))\n",
    "sns.countplot(data=df, x=\"Diabetes\", hue=\"Diabetes\", palette=\"Set2\", legend=False)\n",
    "plt.title(\"Distribution of Diabetes Status (Target Variable)\")\n",
    "plt.xlabel(\"Diabetes Status\")\n",
    "plt.ylabel(\"Count\")\n",
    "legend_labels = [\n",
    "    mpatches.Patch(color=sns.color_palette(\"Set2\")[0], label=\"0: No Diabetes\"),\n",
    "    mpatches.Patch(color=sns.color_palette(\"Set2\")[1], label=\"1: Prediabetes\"),\n",
    "    mpatches.Patch(color=sns.color_palette(\"Set2\")[2], label=\"2: Diabetes\")\n",
    "]\n",
    "plt.legend(handles=legend_labels, title=\"Class\")\n",
    "plt.tight_layout()\n",
    "plt.show()\n"
   ]
  },
  {
   "cell_type": "code",
   "execution_count": 735,
   "id": "b88fea50-0898-4513-a8ce-b279aed4df34",
   "metadata": {},
   "outputs": [
    {
     "data": {
      "image/png": "[encoded data removed]",
      "text/plain": [
       "<Figure size 1000x600 with 1 Axes>"
      ]
     },
     "metadata": {},
     "output_type": "display_data"
    }
   ],
   "source": [
    "diabetes_labels = {\n",
    "    0: \"No Diabetes\",\n",
    "    1: \"Prediabetes\",\n",
    "    2: \"Diabetes\"\n",
    "}\n",
    "sample_df = df.sample(n=12000, random_state=5310)\n",
    "sample_df[\"Diabetes\"] = sample_df[\"Diabetes\"].map(diabetes_labels)\n",
    "\n",
    "plt.figure(figsize=(10, 6))\n",
    "ax = sns.kdeplot(\n",
    "    data=sample_df,\n",
    "    x=\"Age\",\n",
    "    y=\"BMI\",\n",
    "    hue=\"Diabetes\",\n",
    "    fill=True,\n",
    "    common_norm=False,\n",
    "    palette=\"Set2\",\n",
    "    alpha=0.6,\n",
    "    thresh=0.05\n",
    ")\n",
    "legend_patches = [\n",
    "    mpatches.Patch(color=sns.color_palette(\"Set2\")[0], label=\"No Diabetes\"),\n",
    "    mpatches.Patch(color=sns.color_palette(\"Set2\")[1], label=\"Prediabetes\"),\n",
    "    mpatches.Patch(color=sns.color_palette(\"Set2\")[2], label=\"Diabetes\"),\n",
    "]\n",
    "plt.legend(handles=legend_patches, title=\"Class\")\n",
    "plt.title(\"Figure: Density of Age vs BMI by Diabetes Status\")\n",
    "plt.xlabel(\"Age\")\n",
    "plt.ylabel(\"BMI\")\n",
    "plt.grid(True)\n",
    "plt.tight_layout()\n",
    "plt.show()\n"
   ]
  },
  {
   "cell_type": "code",
   "execution_count": null,
   "id": "be331edd-66a3-4148-854e-ac17998415c3",
   "metadata": {},
   "outputs": [],
   "source": []
  }
 ],
 "metadata": {
  "kernelspec": {
   "display_name": "Python 3 (ipykernel)",
   "language": "python",
   "name": "python3"
  },
  "language_info": {
   "codemirror_mode": {
    "name": "ipython",
    "version": 3
   },
   "file_extension": ".py",
   "mimetype": "text/x-python",
   "name": "python",
   "nbconvert_exporter": "python",
   "pygments_lexer": "ipython3",
   "version": "3.7.11"
  }
 },
 "nbformat": 4,
 "nbformat_minor": 5
}
